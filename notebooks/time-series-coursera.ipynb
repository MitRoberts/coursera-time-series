{
 "cells": [
  {
   "cell_type": "markdown",
   "metadata": {},
   "source": [
    "# Time Series Coursera"
   ]
  },
  {
   "cell_type": "markdown",
   "metadata": {},
   "source": [
    "## Week 1"
   ]
  },
  {
   "cell_type": "markdown",
   "metadata": {},
   "source": [
    "### Summary Statistics"
   ]
  },
  {
   "cell_type": "markdown",
   "metadata": {},
   "source": [
    "c() is the concatenation operator for r, this is how you stick datasets together."
   ]
  },
  {
   "cell_type": "code",
   "execution_count": 1,
   "metadata": {},
   "outputs": [
    {
     "name": "stdout",
     "output_type": "stream",
     "text": [
      "[1] 35  8 10 23 42\n"
     ]
    }
   ],
   "source": [
    "data.1=c(35, 8, 10, 23, 42)\n",
    "print(data.1)"
   ]
  },
  {
   "cell_type": "markdown",
   "metadata": {},
   "source": [
    "There are ways to get the summary statistics using summary() or single statistics such as mean or standard deviation."
   ]
  },
  {
   "cell_type": "code",
   "execution_count": 2,
   "metadata": {},
   "outputs": [
    {
     "data": {
      "text/plain": [
       "   Min. 1st Qu.  Median    Mean 3rd Qu.    Max. \n",
       "    8.0    10.0    23.0    23.6    35.0    42.0 "
      ]
     },
     "metadata": {},
     "output_type": "display_data"
    }
   ],
   "source": [
    "summary(data.1)"
   ]
  },
  {
   "cell_type": "code",
   "execution_count": 3,
   "metadata": {},
   "outputs": [
    {
     "data": {
      "text/html": [
       "23.6"
      ],
      "text/latex": [
       "23.6"
      ],
      "text/markdown": [
       "23.6"
      ],
      "text/plain": [
       "[1] 23.6"
      ]
     },
     "metadata": {},
     "output_type": "display_data"
    }
   ],
   "source": [
    "mean(data.1)"
   ]
  },
  {
   "cell_type": "code",
   "execution_count": 4,
   "metadata": {},
   "outputs": [
    {
     "data": {
      "text/html": [
       "14.9766484902331"
      ],
      "text/latex": [
       "14.9766484902331"
      ],
      "text/markdown": [
       "14.9766484902331"
      ],
      "text/plain": [
       "[1] 14.97665"
      ]
     },
     "metadata": {},
     "output_type": "display_data"
    }
   ],
   "source": [
    "sd(data.1)"
   ]
  },
  {
   "cell_type": "markdown",
   "metadata": {},
   "source": []
  },
  {
   "cell_type": "markdown",
   "metadata": {},
   "source": [
    "### Histograms"
   ]
  },
  {
   "cell_type": "markdown",
   "metadata": {},
   "source": [
    "R is able to do nice histograms, which you can customise."
   ]
  },
  {
   "cell_type": "code",
   "execution_count": 5,
   "metadata": {
    "collapsed": true
   },
   "outputs": [],
   "source": [
    "small.size.dataset=c(91,49,76,112,97,42,70, 100, 8, 112, 95, 90, 78, 62, 56, 94, 65, 58, 109, 70, 109, 91, 71, 76, 68, 62, 134, 57, 83, 66)\n"
   ]
  },
  {
   "cell_type": "code",
   "execution_count": 6,
   "metadata": {},
   "outputs": [
    {
     "data": {
      "image/png": "[encoded data removed]",
      "text/plain": [
       "Plot with title \"Histogram of my data\""
      ]
     },
     "metadata": {},
     "output_type": "display_data"
    }
   ],
   "source": [
    "hist(small.size.dataset, xlab='My data points', main='Histogram of my data', freq=F, col='green', breaks=10)\n",
    "lines(density(small.size.dataset), col='red', lwd=5)"
   ]
  },
  {
   "cell_type": "markdown",
   "metadata": {},
   "source": [
    "### Scatterplots"
   ]
  },
  {
   "cell_type": "markdown",
   "metadata": {},
   "source": [
    "Its fairly easy to do scatterplots"
   ]
  },
  {
   "cell_type": "code",
   "execution_count": 8,
   "metadata": {},
   "outputs": [
    {
     "data": {
      "text/html": [
       "<ol class=list-inline>\n",
       "\t<li>83</li>\n",
       "\t<li>53</li>\n",
       "\t<li>74</li>\n",
       "\t<li>74</li>\n",
       "\t<li>67</li>\n",
       "\t<li>72</li>\n",
       "\t<li>68</li>\n",
       "\t<li>84</li>\n",
       "\t<li>81</li>\n",
       "\t<li>81</li>\n",
       "\t<li>67</li>\n",
       "\t<li>89</li>\n",
       "\t<li>90</li>\n",
       "\t<li>74</li>\n",
       "\t<li>79</li>\n",
       "\t<li>74</li>\n",
       "\t<li>93</li>\n",
       "\t<li>53</li>\n",
       "\t<li>79</li>\n",
       "\t<li>87</li>\n",
       "\t<li>90</li>\n",
       "\t<li>91</li>\n",
       "\t<li>75</li>\n",
       "\t<li>83</li>\n",
       "\t<li>71</li>\n",
       "\t<li>65</li>\n",
       "\t<li>84</li>\n",
       "\t<li>80</li>\n",
       "\t<li>76</li>\n",
       "\t<li>79</li>\n",
       "\t<li>87</li>\n",
       "\t<li>84</li>\n",
       "\t<li>88</li>\n",
       "\t<li>82</li>\n",
       "\t<li>67</li>\n",
       "\t<li>98</li>\n",
       "\t<li>78</li>\n",
       "\t<li>86</li>\n",
       "\t<li>90</li>\n",
       "\t<li>89</li>\n",
       "\t<li>67</li>\n",
       "\t<li>64</li>\n",
       "\t<li>69</li>\n",
       "\t<li>72</li>\n",
       "\t<li>57</li>\n",
       "\t<li>72</li>\n",
       "\t<li>77</li>\n",
       "\t<li>77</li>\n",
       "\t<li>56</li>\n",
       "\t<li>76</li>\n",
       "</ol>\n"
      ],
      "text/latex": [
       "\\begin{enumerate*}\n",
       "\\item 83\n",
       "\\item 53\n",
       "\\item 74\n",
       "\\item 74\n",
       "\\item 67\n",
       "\\item 72\n",
       "\\item 68\n",
       "\\item 84\n",
       "\\item 81\n",
       "\\item 81\n",
       "\\item 67\n",
       "\\item 89\n",
       "\\item 90\n",
       "\\item 74\n",
       "\\item 79\n",
       "\\item 74\n",
       "\\item 93\n",
       "\\item 53\n",
       "\\item 79\n",
       "\\item 87\n",
       "\\item 90\n",
       "\\item 91\n",
       "\\item 75\n",
       "\\item 83\n",
       "\\item 71\n",
       "\\item 65\n",
       "\\item 84\n",
       "\\item 80\n",
       "\\item 76\n",
       "\\item 79\n",
       "\\item 87\n",
       "\\item 84\n",
       "\\item 88\n",
       "\\item 82\n",
       "\\item 67\n",
       "\\item 98\n",
       "\\item 78\n",
       "\\item 86\n",
       "\\item 90\n",
       "\\item 89\n",
       "\\item 67\n",
       "\\item 64\n",
       "\\item 69\n",
       "\\item 72\n",
       "\\item 57\n",
       "\\item 72\n",
       "\\item 77\n",
       "\\item 77\n",
       "\\item 56\n",
       "\\item 76\n",
       "\\end{enumerate*}\n"
      ],
      "text/markdown": [
       "1. 83\n",
       "2. 53\n",
       "3. 74\n",
       "4. 74\n",
       "5. 67\n",
       "6. 72\n",
       "7. 68\n",
       "8. 84\n",
       "9. 81\n",
       "10. 81\n",
       "11. 67\n",
       "12. 89\n",
       "13. 90\n",
       "14. 74\n",
       "15. 79\n",
       "16. 74\n",
       "17. 93\n",
       "18. 53\n",
       "19. 79\n",
       "20. 87\n",
       "21. 90\n",
       "22. 91\n",
       "23. 75\n",
       "24. 83\n",
       "25. 71\n",
       "26. 65\n",
       "27. 84\n",
       "28. 80\n",
       "29. 76\n",
       "30. 79\n",
       "31. 87\n",
       "32. 84\n",
       "33. 88\n",
       "34. 82\n",
       "35. 67\n",
       "36. 98\n",
       "37. 78\n",
       "38. 86\n",
       "39. 90\n",
       "40. 89\n",
       "41. 67\n",
       "42. 64\n",
       "43. 69\n",
       "44. 72\n",
       "45. 57\n",
       "46. 72\n",
       "47. 77\n",
       "48. 77\n",
       "49. 56\n",
       "50. 76\n",
       "\n",
       "\n"
      ],
      "text/plain": [
       " [1] 83 53 74 74 67 72 68 84 81 81 67 89 90 74 79 74 93 53 79 87 90 91 75 83 71\n",
       "[26] 65 84 80 76 79 87 84 88 82 67 98 78 86 90 89 67 64 69 72 57 72 77 77 56 76"
      ]
     },
     "metadata": {},
     "output_type": "display_data"
    }
   ],
   "source": [
    "set.seed=2016\n",
    "Test_1_scores=round(rnorm(50,78,10))\n",
    "Test_2_scores=round(rnorm(50,70,14))\n",
    "Test_1_scores"
   ]
  },
  {
   "cell_type": "code",
   "execution_count": 9,
   "metadata": {},
   "outputs": [
    {
     "data": {
      "image/png": "[encoded data removed]",
      "text/plain": [
       "Plot with title \"Test scores for two exams (50 students)\""
      ]
     },
     "metadata": {},
     "output_type": "display_data"
    }
   ],
   "source": [
    "plot(Test_2_scores, Test_1_scores, main='Test scores for two exams (50 students)', xlab='Test 1 scores', ylab='Test 2 scores', col='blue')\n"
   ]
  },
  {
   "cell_type": "markdown",
   "metadata": {},
   "source": [
    "### Mauna Loa Atmospheric co2 Concentration Excersise"
   ]
  },
  {
   "cell_type": "markdown",
   "metadata": {},
   "source": [
    "Its important that the data we deal with is classed as a time series"
   ]
  },
  {
   "cell_type": "code",
   "execution_count": 11,
   "metadata": {},
   "outputs": [
    {
     "data": {
      "text/html": [
       "'ts'"
      ],
      "text/latex": [
       "'ts'"
      ],
      "text/markdown": [
       "'ts'"
      ],
      "text/plain": [
       "[1] \"ts\""
      ]
     },
     "metadata": {},
     "output_type": "display_data"
    }
   ],
   "source": [
    "class(co2) # shows as a ts class"
   ]
  },
  {
   "cell_type": "code",
   "execution_count": 10,
   "metadata": {},
   "outputs": [
    {
     "data": {
      "text/html": [
       "'ts'"
      ],
      "text/latex": [
       "'ts'"
      ],
      "text/markdown": [
       "'ts'"
      ],
      "text/plain": [
       "[1] \"ts\""
      ]
     },
     "metadata": {},
     "output_type": "display_data"
    },
    {
     "data": {
      "image/png": "[encoded data removed]",
      "text/plain": [
       "Plot with title \"Atmospheric CO2 Concentration\""
      ]
     },
     "metadata": {},
     "output_type": "display_data"
    }
   ],
   "source": [
    "\n",
    "plot(co2, main='Atmospheric CO2 Concentration')"
   ]
  },
  {
   "cell_type": "code",
   "execution_count": null,
   "metadata": {
    "collapsed": true
   },
   "outputs": [],
   "source": []
  }
 ],
 "metadata": {
  "kernelspec": {
   "display_name": "R",
   "language": "R",
   "name": "ir"
  },
  "language_info": {
   "codemirror_mode": "r",
   "file_extension": ".r",
   "mimetype": "text/x-r-source",
   "name": "R",
   "pygments_lexer": "r",
   "version": "3.4.3"
  }
 },
 "nbformat": 4,
 "nbformat_minor": 2
}
