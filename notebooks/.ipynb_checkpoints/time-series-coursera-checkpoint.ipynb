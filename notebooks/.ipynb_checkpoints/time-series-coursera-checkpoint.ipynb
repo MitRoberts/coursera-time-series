{
 "cells": [
  {
   "cell_type": "markdown",
   "metadata": {},
   "source": [
    "# Time Series Coursera"
   ]
  },
  {
   "cell_type": "markdown",
   "metadata": {},
   "source": [
    "## Week 1"
   ]
  },
  {
   "cell_type": "code",
   "execution_count": 30,
   "metadata": {},
   "outputs": [
    {
     "name": "stderr",
     "output_type": "stream",
     "text": [
      "Installing package into 'C:/Users/mitro/OneDrive/Documents/R/win-library/3.4'\n",
      "(as 'lib' is unspecified)\n",
      "Warning message:\n",
      "\"unable to access index for repository https://cran.stat.auckland.ac.nz/src/contrib:\n",
      "  cannot open destfile 'C:\\Users\\mitro\\AppData\\Local\\Temp\\RtmpqsCXGE\\file3e143dd91255', reason 'No such file or directory'\"Warning message:\n",
      "\"package 'dplyr' is not available (for R version 3.4.3)\"Warning message in gzfile(file, mode):\n",
      "\"cannot open compressed file 'C:\\Users\\mitro\\AppData\\Local\\Temp\\RtmpqsCXGE/libloc_202_825038d8.rds', probable reason 'No such file or directory'\""
     ]
    },
    {
     "ename": "ERROR",
     "evalue": "Error in gzfile(file, mode): cannot open the connection\n",
     "output_type": "error",
     "traceback": [
      "Error in gzfile(file, mode): cannot open the connection\nTraceback:\n",
      "1. install.packages(\"dplyr\", repos = \"https://cran.stat.auckland.ac.nz/\")",
      "2. getDependencies(pkgs, dependencies, available, lib)",
      "3. installed.packages(lib.loc = libpath, fields = c(\"Package\", \"Version\"))",
      "4. saveRDS(list(base = base, value = ret0), dest)",
      "5. gzfile(file, mode)"
     ]
    }
   ],
   "source": [
    "install.packages(\"dplyr\", repos=\"https://cran.stat.auckland.ac.nz/\")\n",
    "install.packages(\"ggpubr\", repos=\"https://cran.stat.auckland.ac.nz/\")\n",
    "install.packages(\"GGally\", repos=\"https://cran.stat.auckland.ac.nz/\")"
   ]
  },
  {
   "cell_type": "code",
   "execution_count": 38,
   "metadata": {},
   "outputs": [
    {
     "data": {
      "text/html": [
       "<strong>png:</strong> 2"
      ],
      "text/latex": [
       "\\textbf{png:} 2"
      ],
      "text/markdown": [
       "**png:** 2"
      ],
      "text/plain": [
       "png \n",
       "  2 "
      ]
     },
     "metadata": {},
     "output_type": "display_data"
    }
   ],
   "source": [
    "library(\"dplyr\")\n",
    "library(\"ggpubr\")\n",
    "library(\"ggplot2\")\n",
    "png(\"abc\", type=\"cairo\")\n",
    "dev.off()"
   ]
  },
  {
   "cell_type": "markdown",
   "metadata": {},
   "source": [
    "### Summary Statistics"
   ]
  },
  {
   "cell_type": "markdown",
   "metadata": {},
   "source": [
    "c() is the concatenation operator for r, this is how you stick datasets together."
   ]
  },
  {
   "cell_type": "code",
   "execution_count": 24,
   "metadata": {},
   "outputs": [
    {
     "name": "stdout",
     "output_type": "stream",
     "text": [
      "[1] 35  8 10 23 42\n"
     ]
    }
   ],
   "source": [
    "data.1=c(35, 8, 10, 23, 42)\n",
    "print(data.1)"
   ]
  },
  {
   "cell_type": "markdown",
   "metadata": {},
   "source": [
    "There are ways to get the summary statistics using summary() or single statistics such as mean or standard deviation."
   ]
  },
  {
   "cell_type": "code",
   "execution_count": 25,
   "metadata": {},
   "outputs": [
    {
     "data": {
      "text/plain": [
       "   Min. 1st Qu.  Median    Mean 3rd Qu.    Max. \n",
       "    8.0    10.0    23.0    23.6    35.0    42.0 "
      ]
     },
     "metadata": {},
     "output_type": "display_data"
    }
   ],
   "source": [
    "summary(data.1)"
   ]
  },
  {
   "cell_type": "code",
   "execution_count": 26,
   "metadata": {},
   "outputs": [
    {
     "data": {
      "text/html": [
       "23.6"
      ],
      "text/latex": [
       "23.6"
      ],
      "text/markdown": [
       "23.6"
      ],
      "text/plain": [
       "[1] 23.6"
      ]
     },
     "metadata": {},
     "output_type": "display_data"
    }
   ],
   "source": [
    "mean(data.1)"
   ]
  },
  {
   "cell_type": "code",
   "execution_count": 27,
   "metadata": {},
   "outputs": [
    {
     "data": {
      "text/html": [
       "14.9766484902331"
      ],
      "text/latex": [
       "14.9766484902331"
      ],
      "text/markdown": [
       "14.9766484902331"
      ],
      "text/plain": [
       "[1] 14.97665"
      ]
     },
     "metadata": {},
     "output_type": "display_data"
    }
   ],
   "source": [
    "sd(data.1)"
   ]
  },
  {
   "cell_type": "markdown",
   "metadata": {},
   "source": []
  },
  {
   "cell_type": "markdown",
   "metadata": {},
   "source": [
    "### Histograms"
   ]
  },
  {
   "cell_type": "markdown",
   "metadata": {},
   "source": [
    "R is able to do nice histograms, which you can customise. There are a number of ways to do histograms."
   ]
  },
  {
   "cell_type": "code",
   "execution_count": 32,
   "metadata": {
    "collapsed": true
   },
   "outputs": [],
   "source": [
    "small.size.dataset=c(91,49,76,112,97,42,70, 100, 8, 112, 95, 90, 78, 62, 56, 94, 65, 58, 109, 70, 109, 91, 71, 76, 68, 62, 134, 57, 83, 66)\n"
   ]
  },
  {
   "cell_type": "markdown",
   "metadata": {},
   "source": [
    "Below shows how to do it with the hist function. "
   ]
  },
  {
   "cell_type": "code",
   "execution_count": 39,
   "metadata": {},
   "outputs": [
    {
     "ename": "ERROR",
     "evalue": "Error in png(tf, width, height, \"in\", pointsize, bg, res, antialias = antialias): unable to start png() device\n",
     "output_type": "error",
     "traceback": [
      "Error in png(tf, width, height, \"in\", pointsize, bg, res, antialias = antialias): unable to start png() device\nTraceback:\n"
     ]
    },
    {
     "data": {
      "text/plain": [
       "Plot with title \"Histogram of my data\""
      ]
     },
     "metadata": {},
     "output_type": "display_data"
    }
   ],
   "source": [
    "hist(small.size.dataset, xlab='My data points', main='Histogram of my data', freq=F, col='blue', breaks=10)\n",
    "lines(density(small.size.dataset), col='red', lwd=5)"
   ]
  },
  {
   "cell_type": "markdown",
   "metadata": {},
   "source": [
    "There are other ways to do histograms as well, such as using the ggplot2 library. "
   ]
  },
  {
   "cell_type": "code",
   "execution_count": 37,
   "metadata": {},
   "outputs": [
    {
     "data": {},
     "metadata": {},
     "output_type": "display_data"
    },
    {
     "ename": "ERROR",
     "evalue": "Error in png(tf, width, height, \"in\", pointsize, bg, res, antialias = antialias): unable to start png() device\n",
     "output_type": "error",
     "traceback": [
      "Error in png(tf, width, height, \"in\", pointsize, bg, res, antialias = antialias): unable to start png() device\nTraceback:\n"
     ]
    },
    {
     "data": {
      "text/plain": [
       "plot without title"
      ]
     },
     "metadata": {},
     "output_type": "display_data"
    }
   ],
   "source": [
    "\n",
    "df.small.size.dataset <- data.frame(small.size.dataset)\n",
    "base <- ggplot(df.small.size.dataset, aes(small.size.dataset))  + geom_histogram(colour=\"black\", aes(y=..density..), binwidth=10) + geom_density(colour = \"blue\", lwd=1)\n",
    "base + stat_function(fun = dnorm, colour = \"red\", lwd=1, args = list(mean = mean(small.size.dataset), sd = sd(small.size.dataset)))\n"
   ]
  },
  {
   "cell_type": "markdown",
   "metadata": {},
   "source": [
    "### Scatterplots"
   ]
  },
  {
   "cell_type": "markdown",
   "metadata": {},
   "source": [
    "Its fairly easy to do scatterplots"
   ]
  },
  {
   "cell_type": "code",
   "execution_count": null,
   "metadata": {},
   "outputs": [],
   "source": [
    "set.seed=2016\n",
    "Test_1_scores=round(rnorm(50,78,10))\n",
    "Test_2_scores=round(rnorm(50,70,14))\n",
    "Test_1_scores"
   ]
  },
  {
   "cell_type": "code",
   "execution_count": null,
   "metadata": {},
   "outputs": [],
   "source": [
    "plot(Test_2_scores, Test_1_scores, main='Test scores for two exams (50 students)', xlab='Test 1 scores', ylab='Test 2 scores', col='blue')\n"
   ]
  },
  {
   "cell_type": "markdown",
   "metadata": {},
   "source": [
    "### Mauna Loa Atmospheric co2 Concentration Excersise"
   ]
  },
  {
   "cell_type": "markdown",
   "metadata": {},
   "source": [
    "Its important that the data we deal with is classed as a time series"
   ]
  },
  {
   "cell_type": "code",
   "execution_count": null,
   "metadata": {},
   "outputs": [],
   "source": [
    "class(co2) # shows as a ts class"
   ]
  },
  {
   "cell_type": "code",
   "execution_count": null,
   "metadata": {},
   "outputs": [],
   "source": [
    "\n",
    "plot(co2, main='Atmospheric CO2 Concentration')"
   ]
  },
  {
   "cell_type": "markdown",
   "metadata": {
    "collapsed": true
   },
   "source": [
    "CO2 concentration is apparently increasing with time over this period. Also, even though a straight line obviously misses some crucial behavior it isn’t entirely useless in that it can be used to model the trend in the data. "
   ]
  },
  {
   "cell_type": "markdown",
   "metadata": {},
   "source": [
    "#### Linear model of data"
   ]
  },
  {
   "cell_type": "code",
   "execution_count": null,
   "metadata": {
    "collapsed": true
   },
   "outputs": [],
   "source": [
    "co2.linear.model = lm(co2 ~ time(co2))"
   ]
  },
  {
   "cell_type": "code",
   "execution_count": null,
   "metadata": {},
   "outputs": [],
   "source": [
    "plot(co2, main='Atmospheric CO2 Concentration with Fitted Line') \n",
    "abline(co2.linear.model ) "
   ]
  },
  {
   "cell_type": "markdown",
   "metadata": {
    "collapsed": true
   },
   "source": [
    "## Residuals"
   ]
  },
  {
   "cell_type": "markdown",
   "metadata": {},
   "source": [
    "Its important to note that there are 3 assumptions for the errors (residuals) when fitting linear models.\n",
    "    - normal distribution\n",
    "    - same variance over the x value\n",
    "    - errors are uncorrelated"
   ]
  },
  {
   "cell_type": "markdown",
   "metadata": {},
   "source": [
    "Look at the residuals. The residuals should be normally distributed.\n",
    "\n",
    "If you only have a few data points - Histograms are not great to help with validating the assumption of normality.\n",
    "\n",
    "qq plots are better. If you see deviations from this straight line then you would question the normality assumption. Is it systematic, or a few random points?"
   ]
  },
  {
   "cell_type": "code",
   "execution_count": null,
   "metadata": {},
   "outputs": [],
   "source": [
    "( co2.residuals = resid( co2.linear.model ) )"
   ]
  },
  {
   "cell_type": "code",
   "execution_count": null,
   "metadata": {},
   "outputs": [],
   "source": [
    "par(mfrow=c(1,3)) \n",
    "hist(co2.residuals, main= \"Histogram of CO2 Residuals\")\n",
    "qqnorm(co2.residuals, main= \"Normal Probability Plot\")\n",
    "qqline(co2.residuals)\n",
    "plot(co2.residuals ~ time(co2), main=\"Residuals on Time\") "
   ]
  },
  {
   "cell_type": "code",
   "execution_count": null,
   "metadata": {},
   "outputs": [],
   "source": [
    "set.seed(1234)\n",
    "df.co2.residuals <- data.frame(co2.residuals)\n",
    "dplyr::sample_n(df.co2.residuals, 10)"
   ]
  },
  {
   "cell_type": "code",
   "execution_count": null,
   "metadata": {},
   "outputs": [],
   "source": [
    "ggqqplot(co2.residuals)"
   ]
  },
  {
   "cell_type": "code",
   "execution_count": null,
   "metadata": {},
   "outputs": [],
   "source": [
    "shapiro.test(co2.residuals)"
   ]
  },
  {
   "cell_type": "code",
   "execution_count": null,
   "metadata": {},
   "outputs": [],
   "source": [
    "mean(co2.residuals)\n",
    "sd(co2.residuals)\n",
    "xnorm <- rnorm(10,mean(co2.residuals), sd(co2.residuals))\n",
    "ks.test(co2.residuals, xnorm)"
   ]
  },
  {
   "cell_type": "code",
   "execution_count": null,
   "metadata": {},
   "outputs": [],
   "source": [
    "\n",
    "\n",
    "\n",
    "base <- ggplot(df.co2.residuals, aes(co2.residuals))  + geom_histogram(colour=\"grey\", aes(y=..density..), binwidth=1) + geom_density(colour = \"blue\", lwd=1)\n",
    "base + stat_function(fun = dnorm, colour = \"red\", lwd=1, args = list(mean = mean(co2.residuals), sd = sd(co2.residuals)))\n"
   ]
  },
  {
   "cell_type": "code",
   "execution_count": null,
   "metadata": {},
   "outputs": [],
   "source": [
    "plot(co2.residuals ~ time(co2), xlim=c(1960, 1963), main=\"Zoomed in Residuals on Time\") "
   ]
  },
  {
   "cell_type": "markdown",
   "metadata": {},
   "source": [
    "## Inference"
   ]
  },
  {
   "cell_type": "markdown",
   "metadata": {},
   "source": [
    "### Sleep dataset"
   ]
  },
  {
   "cell_type": "markdown",
   "metadata": {},
   "source": [
    "For this test we will do a 2 sided t test - we have no intuition or theory that one will be bigger than the other. So we are basically saying \"not the same\". \n",
    "\n",
    "Type one error, the probability that we will reject a true null hypothesis."
   ]
  },
  {
   "cell_type": "code",
   "execution_count": null,
   "metadata": {},
   "outputs": [],
   "source": [
    "sleep"
   ]
  },
  {
   "cell_type": "code",
   "execution_count": null,
   "metadata": {},
   "outputs": [],
   "source": [
    "plot(extra~group, data=sleep, main = \"Extra Sleep in Gossett Data by Group\")"
   ]
  },
  {
   "cell_type": "markdown",
   "metadata": {
    "collapsed": true
   },
   "source": [
    "If you are tired of typing the dollar sign to access a variable, you can “attach” the data frame as"
   ]
  },
  {
   "cell_type": "code",
   "execution_count": null,
   "metadata": {},
   "outputs": [],
   "source": [
    "attach(sleep)"
   ]
  },
  {
   "cell_type": "markdown",
   "metadata": {},
   "source": [
    "The following creates 2 lists of each group."
   ]
  },
  {
   "cell_type": "code",
   "execution_count": null,
   "metadata": {
    "collapsed": true
   },
   "outputs": [],
   "source": [
    "extra.1=extra[group==1] \n",
    "extra.2=extra[group==2] "
   ]
  },
  {
   "cell_type": "code",
   "execution_count": null,
   "metadata": {},
   "outputs": [],
   "source": [
    "extra.1"
   ]
  },
  {
   "cell_type": "code",
   "execution_count": null,
   "metadata": {},
   "outputs": [],
   "source": [
    "t.test(extra.1, extra.2, paired=TRUE, alternative=\"two.sided\") "
   ]
  },
  {
   "cell_type": "code",
   "execution_count": null,
   "metadata": {},
   "outputs": [],
   "source": [
    "diffs = extra.1-extra.2 \n",
    "ggqqplot(diffs)"
   ]
  },
  {
   "cell_type": "code",
   "execution_count": null,
   "metadata": {},
   "outputs": [],
   "source": [
    "plot(extra.2~extra.1, xlab='extra sleep with drug 1',  ylab='extra sleep with drug 2' ,  main='Extra Sleep Drug 2 against Extra Sleep Drug 1')\n",
    "sleep.linear.model = lm(extra.2 ~ extra.1 )\n",
    "abline(sleep.linear.model) "
   ]
  },
  {
   "cell_type": "code",
   "execution_count": null,
   "metadata": {},
   "outputs": [],
   "source": [
    "summary(sleep.linear.model) "
   ]
  },
  {
   "cell_type": "code",
   "execution_count": null,
   "metadata": {},
   "outputs": [],
   "source": [
    "lm(formula = extra.2 ~ extra.1) "
   ]
  },
  {
   "cell_type": "markdown",
   "metadata": {},
   "source": [
    "## Measuring Linear Association"
   ]
  },
  {
   "cell_type": "code",
   "execution_count": null,
   "metadata": {},
   "outputs": [],
   "source": [
    "trees"
   ]
  },
  {
   "cell_type": "code",
   "execution_count": null,
   "metadata": {},
   "outputs": [],
   "source": [
    "pairs(trees, pch = 21, bg = c(\"red\")) "
   ]
  },
  {
   "cell_type": "code",
   "execution_count": 22,
   "metadata": {},
   "outputs": [
    {
     "data": {},
     "metadata": {},
     "output_type": "display_data"
    },
    {
     "ename": "ERROR",
     "evalue": "Error in png(tf, width, height, \"in\", pointsize, bg, res, antialias = antialias): unable to start png() device\n",
     "output_type": "error",
     "traceback": [
      "Error in png(tf, width, height, \"in\", pointsize, bg, res, antialias = antialias): unable to start png() device\nTraceback:\n"
     ]
    },
    {
     "data": {
      "text/plain": [
       "plot without title"
      ]
     },
     "metadata": {},
     "output_type": "display_data"
    }
   ],
   "source": [
    "library(GGally)\n",
    "ggpairs(trees)"
   ]
  },
  {
   "cell_type": "code",
   "execution_count": null,
   "metadata": {
    "collapsed": true
   },
   "outputs": [],
   "source": []
  }
 ],
 "metadata": {
  "kernelspec": {
   "display_name": "R",
   "language": "R",
   "name": "ir"
  },
  "language_info": {
   "codemirror_mode": "r",
   "file_extension": ".r",
   "mimetype": "text/x-r-source",
   "name": "R",
   "pygments_lexer": "r",
   "version": "3.4.3"
  }
 },
 "nbformat": 4,
 "nbformat_minor": 2
}
